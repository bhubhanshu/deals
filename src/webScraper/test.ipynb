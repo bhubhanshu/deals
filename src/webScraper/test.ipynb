{
 "cells": [
  {
   "cell_type": "code",
   "execution_count": 100,
   "metadata": {},
   "outputs": [],
   "source": [
    "import requests\n",
    "from selenium import webdriver\n",
    "from bs4 import BeautifulSoup\n",
    "import json\n",
    "import re\n",
    "import time"
   ]
  },
  {
   "cell_type": "code",
   "execution_count": 105,
   "metadata": {
    "tags": []
   },
   "outputs": [],
   "source": [
    "base = 'https://www.desidime.com'\n",
    "driver = webdriver.Chrome('/home/bhubhanshu/chromedriver')\n",
    "driver.get(base+'/new')\n",
    "n=10\n",
    "while n>0:\n",
    "    driver.execute_script(\"window.scrollTo(0, document.body.scrollHeight);\")\n",
    "    time.sleep(1)\n",
    "    n-=1\n",
    "driver.execute_script(\"window.scrollTo(0, 0);\")\n",
    "soup = BeautifulSoup(driver.page_source, 'html.parser')\n",
    "results = soup.findAll('div',class_='deal-box')"
   ]
  },
  {
   "cell_type": "code",
   "execution_count": 106,
   "metadata": {
    "tags": []
   },
   "outputs": [
    {
     "output_type": "stream",
     "name": "stdout",
     "text": [
      "300 215\n"
     ]
    }
   ],
   "source": [
    "items = []\n",
    "for i in results:\n",
    "    link = i.find('div',class_='getdeal')\n",
    "    img = i.find('div',class_='pr')\n",
    "    store = i.find('div',class_='deal-store')\n",
    "    price = i.find('div',class_='deal-price')\n",
    "    discount = i.find('div',class_='deal-discount')\n",
    "    if None in (link,img,store,price,discount):\n",
    "        continue\n",
    "    store = store.find('a')\n",
    "    if None in (store,):\n",
    "        continue\n",
    "    deal = img.find('a')['href']\n",
    "    newpage = requests.get(base+deal)\n",
    "    newsoup = BeautifulSoup(newpage.content, 'html.parser')\n",
    "    deal = newsoup.find(id='deal-detail-like-dislike-container')\n",
    "    if None in (deal,):\n",
    "        continue\n",
    "    deal = deal.find('h1')\n",
    "    img = img.find('img')['data-src']\n",
    "    link = link.find('a')['data-href']\n",
    "    link = re.search(r'url=(.*)',link).groups()[0]\n",
    "    time = i.find('time')['datetime']\n",
    "    item = {\n",
    "        'link': link,\n",
    "        'img' : img,\n",
    "        'deal' : deal.text.strip(),\n",
    "        'store' : store.text.strip(),\n",
    "        'price' : price.text.strip(),\n",
    "        'discount' : discount.text.strip(),\n",
    "        'time' : time\n",
    "    }\n",
    "    items.append(item)"
   ]
  },
  {
   "cell_type": "code",
   "execution_count": 107,
   "metadata": {},
   "outputs": [],
   "source": [
    "with open('data.json','w') as f:\n",
    "    json.dump(items, f)"
   ]
  },
  {
   "cell_type": "code",
   "execution_count": null,
   "metadata": {},
   "outputs": [],
   "source": []
  }
 ],
 "metadata": {
  "kernelspec": {
   "display_name": "Python 3",
   "language": "python",
   "name": "python3"
  },
  "language_info": {
   "codemirror_mode": {
    "name": "ipython",
    "version": 3
   },
   "file_extension": ".py",
   "mimetype": "text/x-python",
   "name": "python",
   "nbconvert_exporter": "python",
   "pygments_lexer": "ipython3",
   "version": "3.8.5-final"
  }
 },
 "nbformat": 4,
 "nbformat_minor": 4
}